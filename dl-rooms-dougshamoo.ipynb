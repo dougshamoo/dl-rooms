{
 "cells": [
  {
   "cell_type": "markdown",
   "metadata": {},
   "source": [
    "# Deep Learning: Rooms of a House"
   ]
  },
  {
   "cell_type": "code",
   "execution_count": 71,
   "metadata": {},
   "outputs": [],
   "source": [
    "%reload_ext autoreload\n",
    "%autoreload 2\n",
    "%matplotlib inline"
   ]
  },
  {
   "cell_type": "code",
   "execution_count": 72,
   "metadata": {},
   "outputs": [],
   "source": [
    "import os\n",
    "from fastai.imports import *\n",
    "from fastai.conv_learner import *\n",
    "from fastai.plots import *"
   ]
  },
  {
   "cell_type": "code",
   "execution_count": 73,
   "metadata": {},
   "outputs": [],
   "source": [
    "PATH = 'dl-rooms/data/'\n",
    "TRAIN = f'{PATH}train/'\n",
    "# TEST = f'{PATH}test/'\n",
    "LABELS = f'{PATH}labels.csv'\n",
    "arch = resnet50"
   ]
  },
  {
   "cell_type": "markdown",
   "metadata": {},
   "source": [
    "## 1 Initial Data Exploration"
   ]
  },
  {
   "cell_type": "code",
   "execution_count": 74,
   "metadata": {},
   "outputs": [
    {
     "name": "stdout",
     "output_type": "stream",
     "text": [
      "labels.csv  models  test  tmp  train\r\n"
     ]
    }
   ],
   "source": [
    "!ls {PATH}"
   ]
  },
  {
   "cell_type": "code",
   "execution_count": 75,
   "metadata": {},
   "outputs": [
    {
     "name": "stdout",
     "output_type": "stream",
     "text": [
      "bathroom  bedroom  dining_room\tkitchen  living_room  office\r\n"
     ]
    }
   ],
   "source": [
    "!ls {TRAIN}"
   ]
  },
  {
   "cell_type": "code",
   "execution_count": 77,
   "metadata": {},
   "outputs": [
    {
     "data": {
      "text/plain": [
       "['bedroom', 'bathroom', 'office', 'kitchen', 'dining_room', 'living_room']"
      ]
     },
     "execution_count": 77,
     "metadata": {},
     "output_type": "execute_result"
    }
   ],
   "source": [
    "os.listdir(TRAIN)"
   ]
  },
  {
   "cell_type": "code",
   "execution_count": 78,
   "metadata": {},
   "outputs": [],
   "source": [
    "data = []\n",
    "for folder in os.listdir(TRAIN):\n",
    "    for image in os.listdir(f'{TRAIN}{folder}'):\n",
    "        data.append({\n",
    "            'file': f'{folder}/{image}',\n",
    "            'room_name': folder\n",
    "        })"
   ]
  },
  {
   "cell_type": "code",
   "execution_count": 79,
   "metadata": {},
   "outputs": [
    {
     "data": {
      "text/plain": [
       "[{'file': 'bedroom/019.jpg', 'room_name': 'bedroom'},\n",
       " {'file': 'bedroom/052.jpg', 'room_name': 'bedroom'},\n",
       " {'file': 'bedroom/025.jpg', 'room_name': 'bedroom'},\n",
       " {'file': 'bedroom/004.jpg', 'room_name': 'bedroom'},\n",
       " {'file': 'bedroom/023.jpg', 'room_name': 'bedroom'},\n",
       " {'file': 'bedroom/037.jpg', 'room_name': 'bedroom'},\n",
       " {'file': 'bedroom/056.jpg', 'room_name': 'bedroom'},\n",
       " {'file': 'bedroom/046.jpg', 'room_name': 'bedroom'},\n",
       " {'file': 'bedroom/048.jpg', 'room_name': 'bedroom'},\n",
       " {'file': 'bedroom/029.jpg', 'room_name': 'bedroom'},\n",
       " {'file': 'bedroom/007.jpg', 'room_name': 'bedroom'},\n",
       " {'file': 'bedroom/026.jpg', 'room_name': 'bedroom'},\n",
       " {'file': 'bedroom/053.jpg', 'room_name': 'bedroom'},\n",
       " {'file': 'bedroom/059.jpg', 'room_name': 'bedroom'},\n",
       " {'file': 'bedroom/057.jpg', 'room_name': 'bedroom'},\n",
       " {'file': 'bedroom/015.jpg', 'room_name': 'bedroom'},\n",
       " {'file': 'bedroom/022.jpg', 'room_name': 'bedroom'},\n",
       " {'file': 'bedroom/028.jpg', 'room_name': 'bedroom'},\n",
       " {'file': 'bedroom/050.jpg', 'room_name': 'bedroom'},\n",
       " {'file': 'bedroom/063.jpg', 'room_name': 'bedroom'},\n",
       " {'file': 'bedroom/014.jpg', 'room_name': 'bedroom'},\n",
       " {'file': 'bedroom/060.jpg', 'room_name': 'bedroom'},\n",
       " {'file': 'bedroom/040.jpg', 'room_name': 'bedroom'},\n",
       " {'file': 'bedroom/006.jpg', 'room_name': 'bedroom'},\n",
       " {'file': 'bedroom/041.jpg', 'room_name': 'bedroom'},\n",
       " {'file': 'bedroom/042.jpg', 'room_name': 'bedroom'},\n",
       " {'file': 'bedroom/045.jpg', 'room_name': 'bedroom'},\n",
       " {'file': 'bedroom/024.jpg', 'room_name': 'bedroom'},\n",
       " {'file': 'bedroom/032.jpg', 'room_name': 'bedroom'},\n",
       " {'file': 'bedroom/030.jpg', 'room_name': 'bedroom'},\n",
       " {'file': 'bedroom/027.jpg', 'room_name': 'bedroom'},\n",
       " {'file': 'bedroom/062.jpg', 'room_name': 'bedroom'},\n",
       " {'file': 'bedroom/054.jpg', 'room_name': 'bedroom'},\n",
       " {'file': 'bedroom/010.jpg', 'room_name': 'bedroom'},\n",
       " {'file': 'bedroom/044.jpg', 'room_name': 'bedroom'},\n",
       " {'file': 'bedroom/008.jpg', 'room_name': 'bedroom'},\n",
       " {'file': 'bedroom/001.jpg', 'room_name': 'bedroom'},\n",
       " {'file': 'bedroom/031.jpg', 'room_name': 'bedroom'},\n",
       " {'file': 'bedroom/043.jpg', 'room_name': 'bedroom'},\n",
       " {'file': 'bedroom/020.jpg', 'room_name': 'bedroom'},\n",
       " {'file': 'bedroom/005.jpg', 'room_name': 'bedroom'},\n",
       " {'file': 'bedroom/036.jpg', 'room_name': 'bedroom'},\n",
       " {'file': 'bedroom/034.jpg', 'room_name': 'bedroom'},\n",
       " {'file': 'bedroom/033.jpg', 'room_name': 'bedroom'},\n",
       " {'file': 'bedroom/038.jpg', 'room_name': 'bedroom'},\n",
       " {'file': 'bedroom/055.jpg', 'room_name': 'bedroom'},\n",
       " {'file': 'bedroom/016.jpg', 'room_name': 'bedroom'},\n",
       " {'file': 'bedroom/017.jpg', 'room_name': 'bedroom'},\n",
       " {'file': 'bedroom/049.jpg', 'room_name': 'bedroom'},\n",
       " {'file': 'bedroom/061.jpg', 'room_name': 'bedroom'},\n",
       " {'file': 'bedroom/013.jpg', 'room_name': 'bedroom'},\n",
       " {'file': 'bedroom/058.jpg', 'room_name': 'bedroom'},\n",
       " {'file': 'bedroom/011.jpg', 'room_name': 'bedroom'},\n",
       " {'file': 'bedroom/009.jpg', 'room_name': 'bedroom'},\n",
       " {'file': 'bedroom/021.jpg', 'room_name': 'bedroom'},\n",
       " {'file': 'bedroom/003.jpg', 'room_name': 'bedroom'},\n",
       " {'file': 'bedroom/035.jpg', 'room_name': 'bedroom'},\n",
       " {'file': 'bedroom/002.jpg', 'room_name': 'bedroom'},\n",
       " {'file': 'bedroom/012.jpg', 'room_name': 'bedroom'},\n",
       " {'file': 'bedroom/051.jpg', 'room_name': 'bedroom'},\n",
       " {'file': 'bedroom/064.jpg', 'room_name': 'bedroom'},\n",
       " {'file': 'bedroom/039.jpg', 'room_name': 'bedroom'},\n",
       " {'file': 'bedroom/047.jpg', 'room_name': 'bedroom'},\n",
       " {'file': 'bedroom/018.jpg', 'room_name': 'bedroom'},\n",
       " {'file': 'bathroom/019.jpg', 'room_name': 'bathroom'},\n",
       " {'file': 'bathroom/065.jpg', 'room_name': 'bathroom'},\n",
       " {'file': 'bathroom/052.jpg', 'room_name': 'bathroom'},\n",
       " {'file': 'bathroom/025.jpg', 'room_name': 'bathroom'},\n",
       " {'file': 'bathroom/004.jpg', 'room_name': 'bathroom'},\n",
       " {'file': 'bathroom/023.jpg', 'room_name': 'bathroom'},\n",
       " {'file': 'bathroom/037.jpg', 'room_name': 'bathroom'},\n",
       " {'file': 'bathroom/056.jpg', 'room_name': 'bathroom'},\n",
       " {'file': 'bathroom/046.jpg', 'room_name': 'bathroom'},\n",
       " {'file': 'bathroom/076.jpg', 'room_name': 'bathroom'},\n",
       " {'file': 'bathroom/048.jpg', 'room_name': 'bathroom'},\n",
       " {'file': 'bathroom/029.jpg', 'room_name': 'bathroom'},\n",
       " {'file': 'bathroom/007.jpg', 'room_name': 'bathroom'},\n",
       " {'file': 'bathroom/026.jpg', 'room_name': 'bathroom'},\n",
       " {'file': 'bathroom/053.jpg', 'room_name': 'bathroom'},\n",
       " {'file': 'bathroom/059.jpg', 'room_name': 'bathroom'},\n",
       " {'file': 'bathroom/082.jpg', 'room_name': 'bathroom'},\n",
       " {'file': 'bathroom/057.jpg', 'room_name': 'bathroom'},\n",
       " {'file': 'bathroom/015.jpg', 'room_name': 'bathroom'},\n",
       " {'file': 'bathroom/022.jpg', 'room_name': 'bathroom'},\n",
       " {'file': 'bathroom/079.jpg', 'room_name': 'bathroom'},\n",
       " {'file': 'bathroom/028.jpg', 'room_name': 'bathroom'},\n",
       " {'file': 'bathroom/050.jpg', 'room_name': 'bathroom'},\n",
       " {'file': 'bathroom/063.jpg', 'room_name': 'bathroom'},\n",
       " {'file': 'bathroom/014.jpg', 'room_name': 'bathroom'},\n",
       " {'file': 'bathroom/060.jpg', 'room_name': 'bathroom'},\n",
       " {'file': 'bathroom/068.jpg', 'room_name': 'bathroom'},\n",
       " {'file': 'bathroom/040.jpg', 'room_name': 'bathroom'},\n",
       " {'file': 'bathroom/069.jpg', 'room_name': 'bathroom'},\n",
       " {'file': 'bathroom/006.jpg', 'room_name': 'bathroom'},\n",
       " {'file': 'bathroom/080.jpg', 'room_name': 'bathroom'},\n",
       " {'file': 'bathroom/041.jpg', 'room_name': 'bathroom'},\n",
       " {'file': 'bathroom/042.jpg', 'room_name': 'bathroom'},\n",
       " {'file': 'bathroom/045.jpg', 'room_name': 'bathroom'},\n",
       " {'file': 'bathroom/024.jpg', 'room_name': 'bathroom'},\n",
       " {'file': 'bathroom/032.jpg', 'room_name': 'bathroom'},\n",
       " {'file': 'bathroom/030.jpg', 'room_name': 'bathroom'},\n",
       " {'file': 'bathroom/027.jpg', 'room_name': 'bathroom'},\n",
       " {'file': 'bathroom/078.jpg', 'room_name': 'bathroom'},\n",
       " {'file': 'bathroom/071.jpg', 'room_name': 'bathroom'},\n",
       " {'file': 'bathroom/074.jpg', 'room_name': 'bathroom'},\n",
       " {'file': 'bathroom/062.jpg', 'room_name': 'bathroom'},\n",
       " {'file': 'bathroom/075.jpg', 'room_name': 'bathroom'},\n",
       " {'file': 'bathroom/054.jpg', 'room_name': 'bathroom'},\n",
       " {'file': 'bathroom/072.jpg', 'room_name': 'bathroom'},\n",
       " {'file': 'bathroom/010.jpg', 'room_name': 'bathroom'},\n",
       " {'file': 'bathroom/044.jpg', 'room_name': 'bathroom'},\n",
       " {'file': 'bathroom/008.jpg', 'room_name': 'bathroom'},\n",
       " {'file': 'bathroom/001.jpg', 'room_name': 'bathroom'},\n",
       " {'file': 'bathroom/031.jpg', 'room_name': 'bathroom'},\n",
       " {'file': 'bathroom/081.jpg', 'room_name': 'bathroom'},\n",
       " {'file': 'bathroom/077.jpg', 'room_name': 'bathroom'},\n",
       " {'file': 'bathroom/043.jpg', 'room_name': 'bathroom'},\n",
       " {'file': 'bathroom/020.jpg', 'room_name': 'bathroom'},\n",
       " {'file': 'bathroom/005.jpg', 'room_name': 'bathroom'},\n",
       " {'file': 'bathroom/070.jpg', 'room_name': 'bathroom'},\n",
       " {'file': 'bathroom/036.jpg', 'room_name': 'bathroom'},\n",
       " {'file': 'bathroom/034.jpg', 'room_name': 'bathroom'},\n",
       " {'file': 'bathroom/033.jpg', 'room_name': 'bathroom'},\n",
       " {'file': 'bathroom/038.jpg', 'room_name': 'bathroom'},\n",
       " {'file': 'bathroom/055.jpg', 'room_name': 'bathroom'},\n",
       " {'file': 'bathroom/016.jpg', 'room_name': 'bathroom'},\n",
       " {'file': 'bathroom/017.jpg', 'room_name': 'bathroom'},\n",
       " {'file': 'bathroom/049.jpg', 'room_name': 'bathroom'},\n",
       " {'file': 'bathroom/061.jpg', 'room_name': 'bathroom'},\n",
       " {'file': 'bathroom/013.jpg', 'room_name': 'bathroom'},\n",
       " {'file': 'bathroom/058.jpg', 'room_name': 'bathroom'},\n",
       " {'file': 'bathroom/011.jpg', 'room_name': 'bathroom'},\n",
       " {'file': 'bathroom/009.jpg', 'room_name': 'bathroom'},\n",
       " {'file': 'bathroom/021.jpg', 'room_name': 'bathroom'},\n",
       " {'file': 'bathroom/003.jpg', 'room_name': 'bathroom'},\n",
       " {'file': 'bathroom/073.jpg', 'room_name': 'bathroom'},\n",
       " {'file': 'bathroom/035.jpg', 'room_name': 'bathroom'},\n",
       " {'file': 'bathroom/002.jpg', 'room_name': 'bathroom'},\n",
       " {'file': 'bathroom/067.jpg', 'room_name': 'bathroom'},\n",
       " {'file': 'bathroom/012.jpg', 'room_name': 'bathroom'},\n",
       " {'file': 'bathroom/051.jpg', 'room_name': 'bathroom'},\n",
       " {'file': 'bathroom/066.jpg', 'room_name': 'bathroom'},\n",
       " {'file': 'bathroom/064.jpg', 'room_name': 'bathroom'},\n",
       " {'file': 'bathroom/039.jpg', 'room_name': 'bathroom'},\n",
       " {'file': 'bathroom/047.jpg', 'room_name': 'bathroom'},\n",
       " {'file': 'bathroom/018.jpg', 'room_name': 'bathroom'},\n",
       " {'file': 'office/019.jpg', 'room_name': 'office'},\n",
       " {'file': 'office/065.jpg', 'room_name': 'office'},\n",
       " {'file': 'office/052.jpg', 'room_name': 'office'},\n",
       " {'file': 'office/025.jpg', 'room_name': 'office'},\n",
       " {'file': 'office/004.jpg', 'room_name': 'office'},\n",
       " {'file': 'office/023.jpg', 'room_name': 'office'},\n",
       " {'file': 'office/037.jpg', 'room_name': 'office'},\n",
       " {'file': 'office/056.jpg', 'room_name': 'office'},\n",
       " {'file': 'office/094.jpg', 'room_name': 'office'},\n",
       " {'file': 'office/046.jpg', 'room_name': 'office'},\n",
       " {'file': 'office/089.jpg', 'room_name': 'office'},\n",
       " {'file': 'office/076.jpg', 'room_name': 'office'},\n",
       " {'file': 'office/048.jpg', 'room_name': 'office'},\n",
       " {'file': 'office/029.jpg', 'room_name': 'office'},\n",
       " {'file': 'office/088.jpg', 'room_name': 'office'},\n",
       " {'file': 'office/007.jpg', 'room_name': 'office'},\n",
       " {'file': 'office/026.jpg', 'room_name': 'office'},\n",
       " {'file': 'office/053.jpg', 'room_name': 'office'},\n",
       " {'file': 'office/059.jpg', 'room_name': 'office'},\n",
       " {'file': 'office/086.jpg', 'room_name': 'office'},\n",
       " {'file': 'office/082.jpg', 'room_name': 'office'},\n",
       " {'file': 'office/057.jpg', 'room_name': 'office'},\n",
       " {'file': 'office/015.jpg', 'room_name': 'office'},\n",
       " {'file': 'office/022.jpg', 'room_name': 'office'},\n",
       " {'file': 'office/079.jpg', 'room_name': 'office'},\n",
       " {'file': 'office/028.jpg', 'room_name': 'office'},\n",
       " {'file': 'office/092.jpg', 'room_name': 'office'},\n",
       " {'file': 'office/099.jpg', 'room_name': 'office'},\n",
       " {'file': 'office/050.jpg', 'room_name': 'office'},\n",
       " {'file': 'office/063.jpg', 'room_name': 'office'},\n",
       " {'file': 'office/014.jpg', 'room_name': 'office'},\n",
       " {'file': 'office/060.jpg', 'room_name': 'office'},\n",
       " {'file': 'office/068.jpg', 'room_name': 'office'},\n",
       " {'file': 'office/040.jpg', 'room_name': 'office'},\n",
       " {'file': 'office/069.jpg', 'room_name': 'office'},\n",
       " {'file': 'office/097.jpg', 'room_name': 'office'},\n",
       " {'file': 'office/006.jpg', 'room_name': 'office'},\n",
       " {'file': 'office/096.jpg', 'room_name': 'office'},\n",
       " {'file': 'office/080.jpg', 'room_name': 'office'},\n",
       " {'file': 'office/041.jpg', 'room_name': 'office'},\n",
       " {'file': 'office/042.jpg', 'room_name': 'office'},\n",
       " {'file': 'office/045.jpg', 'room_name': 'office'},\n",
       " {'file': 'office/090.jpg', 'room_name': 'office'},\n",
       " {'file': 'office/024.jpg', 'room_name': 'office'},\n",
       " {'file': 'office/032.jpg', 'room_name': 'office'},\n",
       " {'file': 'office/030.jpg', 'room_name': 'office'},\n",
       " {'file': 'office/027.jpg', 'room_name': 'office'},\n",
       " {'file': 'office/078.jpg', 'room_name': 'office'},\n",
       " {'file': 'office/085.jpg', 'room_name': 'office'},\n",
       " {'file': 'office/071.jpg', 'room_name': 'office'},\n",
       " {'file': 'office/074.jpg', 'room_name': 'office'},\n",
       " {'file': 'office/062.jpg', 'room_name': 'office'},\n",
       " {'file': 'office/075.jpg', 'room_name': 'office'},\n",
       " {'file': 'office/054.jpg', 'room_name': 'office'},\n",
       " {'file': 'office/072.jpg', 'room_name': 'office'},\n",
       " {'file': 'office/010.jpg', 'room_name': 'office'},\n",
       " {'file': 'office/044.jpg', 'room_name': 'office'},\n",
       " {'file': 'office/100.jpg', 'room_name': 'office'},\n",
       " {'file': 'office/008.jpg', 'room_name': 'office'},\n",
       " {'file': 'office/001.jpg', 'room_name': 'office'},\n",
       " {'file': 'office/031.jpg', 'room_name': 'office'},\n",
       " {'file': 'office/081.jpg', 'room_name': 'office'},\n",
       " {'file': 'office/077.jpg', 'room_name': 'office'},\n",
       " {'file': 'office/043.jpg', 'room_name': 'office'},\n",
       " {'file': 'office/020.jpg', 'room_name': 'office'},\n",
       " {'file': 'office/005.jpg', 'room_name': 'office'},\n",
       " {'file': 'office/070.jpg', 'room_name': 'office'},\n",
       " {'file': 'office/095.jpg', 'room_name': 'office'},\n",
       " {'file': 'office/093.jpg', 'room_name': 'office'},\n",
       " {'file': 'office/036.jpg', 'room_name': 'office'},\n",
       " {'file': 'office/034.jpg', 'room_name': 'office'},\n",
       " {'file': 'office/091.jpg', 'room_name': 'office'},\n",
       " {'file': 'office/033.jpg', 'room_name': 'office'},\n",
       " {'file': 'office/038.jpg', 'room_name': 'office'},\n",
       " {'file': 'office/055.jpg', 'room_name': 'office'},\n",
       " {'file': 'office/087.jpg', 'room_name': 'office'},\n",
       " {'file': 'office/016.jpg', 'room_name': 'office'},\n",
       " {'file': 'office/017.jpg', 'room_name': 'office'},\n",
       " {'file': 'office/049.jpg', 'room_name': 'office'},\n",
       " {'file': 'office/083.jpg', 'room_name': 'office'},\n",
       " {'file': 'office/061.jpg', 'room_name': 'office'},\n",
       " {'file': 'office/013.jpg', 'room_name': 'office'},\n",
       " {'file': 'office/058.jpg', 'room_name': 'office'},\n",
       " {'file': 'office/011.jpg', 'room_name': 'office'},\n",
       " {'file': 'office/009.jpg', 'room_name': 'office'},\n",
       " {'file': 'office/098.jpg', 'room_name': 'office'},\n",
       " {'file': 'office/084.jpg', 'room_name': 'office'},\n",
       " {'file': 'office/021.jpg', 'room_name': 'office'},\n",
       " {'file': 'office/003.jpg', 'room_name': 'office'},\n",
       " {'file': 'office/073.jpg', 'room_name': 'office'},\n",
       " {'file': 'office/035.jpg', 'room_name': 'office'},\n",
       " {'file': 'office/002.jpg', 'room_name': 'office'},\n",
       " {'file': 'office/067.jpg', 'room_name': 'office'},\n",
       " {'file': 'office/012.jpg', 'room_name': 'office'},\n",
       " {'file': 'office/051.jpg', 'room_name': 'office'},\n",
       " {'file': 'office/066.jpg', 'room_name': 'office'},\n",
       " {'file': 'office/064.jpg', 'room_name': 'office'},\n",
       " {'file': 'office/039.jpg', 'room_name': 'office'},\n",
       " {'file': 'office/047.jpg', 'room_name': 'office'},\n",
       " {'file': 'office/018.jpg', 'room_name': 'office'},\n",
       " {'file': 'kitchen/019.jpg', 'room_name': 'kitchen'},\n",
       " {'file': 'kitchen/052.jpg', 'room_name': 'kitchen'},\n",
       " {'file': 'kitchen/025.jpg', 'room_name': 'kitchen'},\n",
       " {'file': 'kitchen/004.jpg', 'room_name': 'kitchen'},\n",
       " {'file': 'kitchen/023.jpg', 'room_name': 'kitchen'},\n",
       " {'file': 'kitchen/037.jpg', 'room_name': 'kitchen'},\n",
       " {'file': 'kitchen/056.jpg', 'room_name': 'kitchen'},\n",
       " {'file': 'kitchen/046.jpg', 'room_name': 'kitchen'},\n",
       " {'file': 'kitchen/048.jpg', 'room_name': 'kitchen'},\n",
       " {'file': 'kitchen/029.jpg', 'room_name': 'kitchen'},\n",
       " {'file': 'kitchen/007.jpg', 'room_name': 'kitchen'},\n",
       " {'file': 'kitchen/026.jpg', 'room_name': 'kitchen'},\n",
       " {'file': 'kitchen/053.jpg', 'room_name': 'kitchen'},\n",
       " {'file': 'kitchen/059.jpg', 'room_name': 'kitchen'},\n",
       " {'file': 'kitchen/057.jpg', 'room_name': 'kitchen'},\n",
       " {'file': 'kitchen/015.jpg', 'room_name': 'kitchen'},\n",
       " {'file': 'kitchen/022.jpg', 'room_name': 'kitchen'},\n",
       " {'file': 'kitchen/028.jpg', 'room_name': 'kitchen'},\n",
       " {'file': 'kitchen/050.jpg', 'room_name': 'kitchen'},\n",
       " {'file': 'kitchen/063.jpg', 'room_name': 'kitchen'},\n",
       " {'file': 'kitchen/014.jpg', 'room_name': 'kitchen'},\n",
       " {'file': 'kitchen/060.jpg', 'room_name': 'kitchen'},\n",
       " {'file': 'kitchen/040.jpg', 'room_name': 'kitchen'},\n",
       " {'file': 'kitchen/006.jpg', 'room_name': 'kitchen'},\n",
       " {'file': 'kitchen/041.jpg', 'room_name': 'kitchen'},\n",
       " {'file': 'kitchen/042.jpg', 'room_name': 'kitchen'},\n",
       " {'file': 'kitchen/045.jpg', 'room_name': 'kitchen'},\n",
       " {'file': 'kitchen/024.jpg', 'room_name': 'kitchen'},\n",
       " {'file': 'kitchen/032.jpg', 'room_name': 'kitchen'},\n",
       " {'file': 'kitchen/030.jpg', 'room_name': 'kitchen'},\n",
       " {'file': 'kitchen/027.jpg', 'room_name': 'kitchen'},\n",
       " {'file': 'kitchen/062.jpg', 'room_name': 'kitchen'},\n",
       " {'file': 'kitchen/054.jpg', 'room_name': 'kitchen'},\n",
       " {'file': 'kitchen/010.jpg', 'room_name': 'kitchen'},\n",
       " {'file': 'kitchen/044.jpg', 'room_name': 'kitchen'},\n",
       " {'file': 'kitchen/008.jpg', 'room_name': 'kitchen'},\n",
       " {'file': 'kitchen/001.jpg', 'room_name': 'kitchen'},\n",
       " {'file': 'kitchen/031.jpg', 'room_name': 'kitchen'},\n",
       " {'file': 'kitchen/043.jpg', 'room_name': 'kitchen'},\n",
       " {'file': 'kitchen/020.jpg', 'room_name': 'kitchen'},\n",
       " {'file': 'kitchen/005.jpg', 'room_name': 'kitchen'},\n",
       " {'file': 'kitchen/036.jpg', 'room_name': 'kitchen'},\n",
       " {'file': 'kitchen/034.jpg', 'room_name': 'kitchen'},\n",
       " {'file': 'kitchen/033.jpg', 'room_name': 'kitchen'},\n",
       " {'file': 'kitchen/038.jpg', 'room_name': 'kitchen'},\n",
       " {'file': 'kitchen/055.jpg', 'room_name': 'kitchen'},\n",
       " {'file': 'kitchen/016.jpg', 'room_name': 'kitchen'},\n",
       " {'file': 'kitchen/017.jpg', 'room_name': 'kitchen'},\n",
       " {'file': 'kitchen/049.jpg', 'room_name': 'kitchen'},\n",
       " {'file': 'kitchen/061.jpg', 'room_name': 'kitchen'},\n",
       " {'file': 'kitchen/013.jpg', 'room_name': 'kitchen'},\n",
       " {'file': 'kitchen/058.jpg', 'room_name': 'kitchen'},\n",
       " {'file': 'kitchen/011.jpg', 'room_name': 'kitchen'},\n",
       " {'file': 'kitchen/009.jpg', 'room_name': 'kitchen'},\n",
       " {'file': 'kitchen/021.jpg', 'room_name': 'kitchen'},\n",
       " {'file': 'kitchen/003.jpg', 'room_name': 'kitchen'},\n",
       " {'file': 'kitchen/035.jpg', 'room_name': 'kitchen'},\n",
       " {'file': 'kitchen/002.jpg', 'room_name': 'kitchen'},\n",
       " {'file': 'kitchen/012.jpg', 'room_name': 'kitchen'},\n",
       " {'file': 'kitchen/051.jpg', 'room_name': 'kitchen'},\n",
       " {'file': 'kitchen/064.jpg', 'room_name': 'kitchen'},\n",
       " {'file': 'kitchen/039.jpg', 'room_name': 'kitchen'},\n",
       " {'file': 'kitchen/047.jpg', 'room_name': 'kitchen'},\n",
       " {'file': 'kitchen/018.jpg', 'room_name': 'kitchen'},\n",
       " {'file': 'dining_room/019.jpg', 'room_name': 'dining_room'},\n",
       " {'file': 'dining_room/065.jpg', 'room_name': 'dining_room'},\n",
       " {'file': 'dining_room/052.jpg', 'room_name': 'dining_room'},\n",
       " {'file': 'dining_room/025.jpg', 'room_name': 'dining_room'},\n",
       " {'file': 'dining_room/004.jpg', 'room_name': 'dining_room'},\n",
       " {'file': 'dining_room/023.jpg', 'room_name': 'dining_room'},\n",
       " {'file': 'dining_room/037.jpg', 'room_name': 'dining_room'},\n",
       " {'file': 'dining_room/056.jpg', 'room_name': 'dining_room'},\n",
       " {'file': 'dining_room/046.jpg', 'room_name': 'dining_room'},\n",
       " {'file': 'dining_room/089.jpg', 'room_name': 'dining_room'},\n",
       " {'file': 'dining_room/076.jpg', 'room_name': 'dining_room'},\n",
       " {'file': 'dining_room/048.jpg', 'room_name': 'dining_room'},\n",
       " {'file': 'dining_room/029.jpg', 'room_name': 'dining_room'},\n",
       " {'file': 'dining_room/088.jpg', 'room_name': 'dining_room'},\n",
       " {'file': 'dining_room/007.jpg', 'room_name': 'dining_room'},\n",
       " {'file': 'dining_room/026.jpg', 'room_name': 'dining_room'},\n",
       " {'file': 'dining_room/053.jpg', 'room_name': 'dining_room'},\n",
       " {'file': 'dining_room/059.jpg', 'room_name': 'dining_room'},\n",
       " {'file': 'dining_room/086.jpg', 'room_name': 'dining_room'},\n",
       " {'file': 'dining_room/082.jpg', 'room_name': 'dining_room'},\n",
       " {'file': 'dining_room/057.jpg', 'room_name': 'dining_room'},\n",
       " {'file': 'dining_room/015.jpg', 'room_name': 'dining_room'},\n",
       " {'file': 'dining_room/022.jpg', 'room_name': 'dining_room'},\n",
       " {'file': 'dining_room/079.jpg', 'room_name': 'dining_room'},\n",
       " {'file': 'dining_room/028.jpg', 'room_name': 'dining_room'},\n",
       " {'file': 'dining_room/092.jpg', 'room_name': 'dining_room'},\n",
       " {'file': 'dining_room/050.jpg', 'room_name': 'dining_room'},\n",
       " {'file': 'dining_room/063.jpg', 'room_name': 'dining_room'},\n",
       " {'file': 'dining_room/014.jpg', 'room_name': 'dining_room'},\n",
       " {'file': 'dining_room/060.jpg', 'room_name': 'dining_room'},\n",
       " {'file': 'dining_room/068.jpg', 'room_name': 'dining_room'},\n",
       " {'file': 'dining_room/040.jpg', 'room_name': 'dining_room'},\n",
       " {'file': 'dining_room/069.jpg', 'room_name': 'dining_room'},\n",
       " {'file': 'dining_room/006.jpg', 'room_name': 'dining_room'},\n",
       " {'file': 'dining_room/080.jpg', 'room_name': 'dining_room'},\n",
       " {'file': 'dining_room/041.jpg', 'room_name': 'dining_room'},\n",
       " {'file': 'dining_room/042.jpg', 'room_name': 'dining_room'},\n",
       " {'file': 'dining_room/045.jpg', 'room_name': 'dining_room'},\n",
       " {'file': 'dining_room/090.jpg', 'room_name': 'dining_room'},\n",
       " {'file': 'dining_room/024.jpg', 'room_name': 'dining_room'},\n",
       " {'file': 'dining_room/032.jpg', 'room_name': 'dining_room'},\n",
       " {'file': 'dining_room/030.jpg', 'room_name': 'dining_room'},\n",
       " {'file': 'dining_room/027.jpg', 'room_name': 'dining_room'},\n",
       " {'file': 'dining_room/078.jpg', 'room_name': 'dining_room'},\n",
       " {'file': 'dining_room/085.jpg', 'room_name': 'dining_room'},\n",
       " {'file': 'dining_room/071.jpg', 'room_name': 'dining_room'},\n",
       " {'file': 'dining_room/074.jpg', 'room_name': 'dining_room'},\n",
       " {'file': 'dining_room/062.jpg', 'room_name': 'dining_room'},\n",
       " {'file': 'dining_room/075.jpg', 'room_name': 'dining_room'},\n",
       " {'file': 'dining_room/054.jpg', 'room_name': 'dining_room'},\n",
       " {'file': 'dining_room/072.jpg', 'room_name': 'dining_room'},\n",
       " {'file': 'dining_room/010.jpg', 'room_name': 'dining_room'},\n",
       " {'file': 'dining_room/044.jpg', 'room_name': 'dining_room'},\n",
       " {'file': 'dining_room/008.jpg', 'room_name': 'dining_room'},\n",
       " {'file': 'dining_room/001.jpg', 'room_name': 'dining_room'},\n",
       " {'file': 'dining_room/031.jpg', 'room_name': 'dining_room'},\n",
       " {'file': 'dining_room/081.jpg', 'room_name': 'dining_room'},\n",
       " {'file': 'dining_room/077.jpg', 'room_name': 'dining_room'},\n",
       " {'file': 'dining_room/043.jpg', 'room_name': 'dining_room'},\n",
       " {'file': 'dining_room/020.jpg', 'room_name': 'dining_room'},\n",
       " {'file': 'dining_room/005.jpg', 'room_name': 'dining_room'},\n",
       " {'file': 'dining_room/070.jpg', 'room_name': 'dining_room'},\n",
       " {'file': 'dining_room/093.jpg', 'room_name': 'dining_room'},\n",
       " {'file': 'dining_room/036.jpg', 'room_name': 'dining_room'},\n",
       " {'file': 'dining_room/034.jpg', 'room_name': 'dining_room'},\n",
       " {'file': 'dining_room/091.jpg', 'room_name': 'dining_room'},\n",
       " {'file': 'dining_room/033.jpg', 'room_name': 'dining_room'},\n",
       " {'file': 'dining_room/038.jpg', 'room_name': 'dining_room'},\n",
       " {'file': 'dining_room/055.jpg', 'room_name': 'dining_room'},\n",
       " {'file': 'dining_room/087.jpg', 'room_name': 'dining_room'},\n",
       " {'file': 'dining_room/016.jpg', 'room_name': 'dining_room'},\n",
       " {'file': 'dining_room/017.jpg', 'room_name': 'dining_room'},\n",
       " {'file': 'dining_room/049.jpg', 'room_name': 'dining_room'},\n",
       " {'file': 'dining_room/083.jpg', 'room_name': 'dining_room'},\n",
       " {'file': 'dining_room/061.jpg', 'room_name': 'dining_room'},\n",
       " {'file': 'dining_room/013.jpg', 'room_name': 'dining_room'},\n",
       " {'file': 'dining_room/058.jpg', 'room_name': 'dining_room'},\n",
       " {'file': 'dining_room/011.jpg', 'room_name': 'dining_room'},\n",
       " {'file': 'dining_room/009.jpg', 'room_name': 'dining_room'},\n",
       " {'file': 'dining_room/084.jpg', 'room_name': 'dining_room'},\n",
       " {'file': 'dining_room/021.jpg', 'room_name': 'dining_room'},\n",
       " {'file': 'dining_room/003.jpg', 'room_name': 'dining_room'},\n",
       " {'file': 'dining_room/073.jpg', 'room_name': 'dining_room'},\n",
       " {'file': 'dining_room/035.jpg', 'room_name': 'dining_room'},\n",
       " {'file': 'dining_room/002.jpg', 'room_name': 'dining_room'},\n",
       " {'file': 'dining_room/067.jpg', 'room_name': 'dining_room'},\n",
       " {'file': 'dining_room/012.jpg', 'room_name': 'dining_room'},\n",
       " {'file': 'dining_room/051.jpg', 'room_name': 'dining_room'},\n",
       " {'file': 'dining_room/066.jpg', 'room_name': 'dining_room'},\n",
       " {'file': 'dining_room/064.jpg', 'room_name': 'dining_room'},\n",
       " {'file': 'dining_room/039.jpg', 'room_name': 'dining_room'},\n",
       " {'file': 'dining_room/047.jpg', 'room_name': 'dining_room'},\n",
       " {'file': 'dining_room/018.jpg', 'room_name': 'dining_room'},\n",
       " {'file': 'living_room/019.jpg', 'room_name': 'living_room'},\n",
       " {'file': 'living_room/052.jpg', 'room_name': 'living_room'},\n",
       " {'file': 'living_room/025.jpg', 'room_name': 'living_room'},\n",
       " {'file': 'living_room/004.jpg', 'room_name': 'living_room'},\n",
       " {'file': 'living_room/023.jpg', 'room_name': 'living_room'},\n",
       " {'file': 'living_room/037.jpg', 'room_name': 'living_room'},\n",
       " {'file': 'living_room/056.jpg', 'room_name': 'living_room'},\n",
       " {'file': 'living_room/046.jpg', 'room_name': 'living_room'},\n",
       " {'file': 'living_room/048.jpg', 'room_name': 'living_room'},\n",
       " {'file': 'living_room/029.jpg', 'room_name': 'living_room'},\n",
       " {'file': 'living_room/007.jpg', 'room_name': 'living_room'},\n",
       " {'file': 'living_room/026.jpg', 'room_name': 'living_room'},\n",
       " {'file': 'living_room/053.jpg', 'room_name': 'living_room'},\n",
       " {'file': 'living_room/059.jpg', 'room_name': 'living_room'},\n",
       " {'file': 'living_room/057.jpg', 'room_name': 'living_room'},\n",
       " {'file': 'living_room/015.jpg', 'room_name': 'living_room'},\n",
       " {'file': 'living_room/022.jpg', 'room_name': 'living_room'},\n",
       " {'file': 'living_room/028.jpg', 'room_name': 'living_room'},\n",
       " {'file': 'living_room/050.jpg', 'room_name': 'living_room'},\n",
       " {'file': 'living_room/014.jpg', 'room_name': 'living_room'},\n",
       " {'file': 'living_room/060.jpg', 'room_name': 'living_room'},\n",
       " {'file': 'living_room/040.jpg', 'room_name': 'living_room'},\n",
       " {'file': 'living_room/006.jpg', 'room_name': 'living_room'},\n",
       " {'file': 'living_room/041.jpg', 'room_name': 'living_room'},\n",
       " {'file': 'living_room/042.jpg', 'room_name': 'living_room'},\n",
       " {'file': 'living_room/045.jpg', 'room_name': 'living_room'},\n",
       " {'file': 'living_room/024.jpg', 'room_name': 'living_room'},\n",
       " {'file': 'living_room/032.jpg', 'room_name': 'living_room'},\n",
       " {'file': 'living_room/030.jpg', 'room_name': 'living_room'},\n",
       " {'file': 'living_room/027.jpg', 'room_name': 'living_room'},\n",
       " {'file': 'living_room/062.jpg', 'room_name': 'living_room'},\n",
       " {'file': 'living_room/054.jpg', 'room_name': 'living_room'},\n",
       " {'file': 'living_room/010.jpg', 'room_name': 'living_room'},\n",
       " {'file': 'living_room/044.jpg', 'room_name': 'living_room'},\n",
       " {'file': 'living_room/008.jpg', 'room_name': 'living_room'},\n",
       " {'file': 'living_room/001.jpg', 'room_name': 'living_room'},\n",
       " {'file': 'living_room/031.jpg', 'room_name': 'living_room'},\n",
       " {'file': 'living_room/043.jpg', 'room_name': 'living_room'},\n",
       " {'file': 'living_room/020.jpg', 'room_name': 'living_room'},\n",
       " {'file': 'living_room/005.jpg', 'room_name': 'living_room'},\n",
       " {'file': 'living_room/036.jpg', 'room_name': 'living_room'},\n",
       " {'file': 'living_room/034.jpg', 'room_name': 'living_room'},\n",
       " {'file': 'living_room/033.jpg', 'room_name': 'living_room'},\n",
       " {'file': 'living_room/038.jpg', 'room_name': 'living_room'},\n",
       " {'file': 'living_room/055.jpg', 'room_name': 'living_room'},\n",
       " {'file': 'living_room/016.jpg', 'room_name': 'living_room'},\n",
       " {'file': 'living_room/017.jpg', 'room_name': 'living_room'},\n",
       " {'file': 'living_room/049.jpg', 'room_name': 'living_room'},\n",
       " {'file': 'living_room/061.jpg', 'room_name': 'living_room'},\n",
       " {'file': 'living_room/013.jpg', 'room_name': 'living_room'},\n",
       " {'file': 'living_room/058.jpg', 'room_name': 'living_room'},\n",
       " {'file': 'living_room/011.jpg', 'room_name': 'living_room'},\n",
       " {'file': 'living_room/009.jpg', 'room_name': 'living_room'},\n",
       " {'file': 'living_room/021.jpg', 'room_name': 'living_room'},\n",
       " {'file': 'living_room/003.jpg', 'room_name': 'living_room'},\n",
       " {'file': 'living_room/035.jpg', 'room_name': 'living_room'},\n",
       " {'file': 'living_room/002.jpg', 'room_name': 'living_room'},\n",
       " {'file': 'living_room/012.jpg', 'room_name': 'living_room'},\n",
       " {'file': 'living_room/051.jpg', 'room_name': 'living_room'},\n",
       " {'file': 'living_room/039.jpg', 'room_name': 'living_room'},\n",
       " {'file': 'living_room/047.jpg', 'room_name': 'living_room'},\n",
       " {'file': 'living_room/018.jpg', 'room_name': 'living_room'}]"
      ]
     },
     "execution_count": 79,
     "metadata": {},
     "output_type": "execute_result"
    }
   ],
   "source": [
    "data"
   ]
  },
  {
   "cell_type": "code",
   "execution_count": 80,
   "metadata": {},
   "outputs": [],
   "source": [
    "labels_df = pd.DataFrame(data, columns=['file', 'room_name'])"
   ]
  },
  {
   "cell_type": "code",
   "execution_count": 81,
   "metadata": {},
   "outputs": [
    {
     "data": {
      "text/html": [
       "<div>\n",
       "<style scoped>\n",
       "    .dataframe tbody tr th:only-of-type {\n",
       "        vertical-align: middle;\n",
       "    }\n",
       "\n",
       "    .dataframe tbody tr th {\n",
       "        vertical-align: top;\n",
       "    }\n",
       "\n",
       "    .dataframe thead th {\n",
       "        text-align: right;\n",
       "    }\n",
       "</style>\n",
       "<table border=\"1\" class=\"dataframe\">\n",
       "  <thead>\n",
       "    <tr style=\"text-align: right;\">\n",
       "      <th></th>\n",
       "      <th>file</th>\n",
       "      <th>room_name</th>\n",
       "    </tr>\n",
       "  </thead>\n",
       "  <tbody>\n",
       "    <tr>\n",
       "      <th>0</th>\n",
       "      <td>bedroom/019.jpg</td>\n",
       "      <td>bedroom</td>\n",
       "    </tr>\n",
       "    <tr>\n",
       "      <th>1</th>\n",
       "      <td>bedroom/052.jpg</td>\n",
       "      <td>bedroom</td>\n",
       "    </tr>\n",
       "    <tr>\n",
       "      <th>2</th>\n",
       "      <td>bedroom/025.jpg</td>\n",
       "      <td>bedroom</td>\n",
       "    </tr>\n",
       "    <tr>\n",
       "      <th>3</th>\n",
       "      <td>bedroom/004.jpg</td>\n",
       "      <td>bedroom</td>\n",
       "    </tr>\n",
       "    <tr>\n",
       "      <th>4</th>\n",
       "      <td>bedroom/023.jpg</td>\n",
       "      <td>bedroom</td>\n",
       "    </tr>\n",
       "  </tbody>\n",
       "</table>\n",
       "</div>"
      ],
      "text/plain": [
       "              file room_name\n",
       "0  bedroom/019.jpg   bedroom\n",
       "1  bedroom/052.jpg   bedroom\n",
       "2  bedroom/025.jpg   bedroom\n",
       "3  bedroom/004.jpg   bedroom\n",
       "4  bedroom/023.jpg   bedroom"
      ]
     },
     "execution_count": 81,
     "metadata": {},
     "output_type": "execute_result"
    }
   ],
   "source": [
    "labels_df.head()"
   ]
  },
  {
   "cell_type": "code",
   "execution_count": 82,
   "metadata": {},
   "outputs": [],
   "source": [
    "labels_df.to_csv(LABELS, index=False)"
   ]
  },
  {
   "cell_type": "code",
   "execution_count": 83,
   "metadata": {},
   "outputs": [],
   "source": [
    "n = len(list(open(LABELS))) - 1\n",
    "val_idxs = get_cv_idxs(n)"
   ]
  },
  {
   "cell_type": "code",
   "execution_count": 84,
   "metadata": {},
   "outputs": [],
   "source": [
    "sz = 224\n",
    "tfms = tfms_from_model(arch, sz, aug_tfms=transforms_top_down, max_zoom=1.1)\n",
    "data = ImageClassifierData.from_csv(PATH, 'train', LABELS, val_idxs=val_idxs, tfms=tfms)"
   ]
  },
  {
   "cell_type": "code",
   "execution_count": 85,
   "metadata": {},
   "outputs": [
    {
     "data": {
      "text/plain": [
       "'dl-rooms/data/train/bedroom/052.jpg'"
      ]
     },
     "execution_count": 85,
     "metadata": {},
     "output_type": "execute_result"
    }
   ],
   "source": [
    "fname = PATH + data.trn_ds.fnames[0]; fname"
   ]
  },
  {
   "cell_type": "code",
   "execution_count": 86,
   "metadata": {},
   "outputs": [
    {
     "data": {
      "image/png": "[encoded data removed]",
      "text/plain": [
       "<PIL.JpegImagePlugin.JpegImageFile image mode=RGB size=285x177 at 0x7F3D2201C6D8>"
      ]
     },
     "execution_count": 86,
     "metadata": {},
     "output_type": "execute_result"
    }
   ],
   "source": [
    "img = PIL.Image.open(fname); img"
   ]
  },
  {
   "cell_type": "code",
   "execution_count": 87,
   "metadata": {},
   "outputs": [],
   "source": [
    "size_dict = { k: PIL.Image.open(PATH + k).size for k in data.trn_ds.fnames }"
   ]
  },
  {
   "cell_type": "code",
   "execution_count": 88,
   "metadata": {},
   "outputs": [],
   "source": [
    "row_sz, col_sz = list(zip(*size_dict.values()))"
   ]
  },
  {
   "cell_type": "code",
   "execution_count": 89,
   "metadata": {},
   "outputs": [],
   "source": [
    "row_sz = np.array(row_sz); col_sz = np.array(col_sz)"
   ]
  },
  {
   "cell_type": "code",
   "execution_count": 90,
   "metadata": {},
   "outputs": [
    {
     "data": {
      "text/plain": [
       "(array([ 42.,  23.,  55.,  60., 116.,  59.,   7.,   3.,   5.,   2.]),\n",
       " array([159. , 186.2, 213.4, 240.6, 267.8, 295. , 322.2, 349.4, 376.6, 403.8, 431. ]),\n",
       " <a list of 10 Patch objects>)"
      ]
     },
     "execution_count": 90,
     "metadata": {},
     "output_type": "execute_result"
    },
    {
     "data": {
      "image/png": "[encoded data removed]",
      "text/plain": [
       "<Figure size 432x288 with 1 Axes>"
      ]
     },
     "metadata": {},
     "output_type": "display_data"
    }
   ],
   "source": [
    "plt.hist(row_sz[row_sz<1500])"
   ]
  },
  {
   "cell_type": "code",
   "execution_count": 91,
   "metadata": {},
   "outputs": [
    {
     "data": {
      "text/plain": [
       "(array([  6.,   9.,  43.,  67., 135.,  21.,  53.,   3.,  19.,  16.]),\n",
       " array([111., 128., 145., 162., 179., 196., 213., 230., 247., 264., 281.]),\n",
       " <a list of 10 Patch objects>)"
      ]
     },
     "execution_count": 91,
     "metadata": {},
     "output_type": "execute_result"
    },
    {
     "data": {
      "image/png": "[encoded data removed]",
      "text/plain": [
       "<Figure size 432x288 with 1 Axes>"
      ]
     },
     "metadata": {},
     "output_type": "display_data"
    }
   ],
   "source": [
    "plt.hist(col_sz[col_sz<1500])"
   ]
  },
  {
   "cell_type": "code",
   "execution_count": 92,
   "metadata": {},
   "outputs": [
    {
     "data": {
      "text/plain": [
       "(270.0, 183.0)"
      ]
     },
     "execution_count": 92,
     "metadata": {},
     "output_type": "execute_result"
    }
   ],
   "source": [
    "np.median(row_sz), np.median(col_sz)"
   ]
  },
  {
   "cell_type": "markdown",
   "metadata": {},
   "source": [
    "## 2 Initial Model"
   ]
  },
  {
   "cell_type": "code",
   "execution_count": 93,
   "metadata": {},
   "outputs": [],
   "source": [
    "def get_data(sz, bs=64):\n",
    "    tfms = tfms_from_model(arch, sz, aug_tfms=transforms_top_down, max_zoom=1.1)\n",
    "    return ImageClassifierData.from_csv(PATH, 'train', LABELS, val_idxs=val_idxs, tfms=tfms)"
   ]
  },
  {
   "cell_type": "markdown",
   "metadata": {},
   "source": [
    "### 2.1 Precompute"
   ]
  },
  {
   "cell_type": "code",
   "execution_count": 94,
   "metadata": {},
   "outputs": [],
   "source": [
    "sz = 224\n",
    "bs = 8\n",
    "data = get_data(sz, bs)"
   ]
  },
  {
   "cell_type": "code",
   "execution_count": 160,
   "metadata": {},
   "outputs": [],
   "source": [
    "learn = ConvLearner.pretrained(arch, data, precompute=True)"
   ]
  },
  {
   "cell_type": "code",
   "execution_count": 96,
   "metadata": {},
   "outputs": [
    {
     "data": {
      "application/vnd.jupyter.widget-view+json": {
       "model_id": "5625f2480dc44bf7be6d467365900e5e",
       "version_major": 2,
       "version_minor": 0
      },
      "text/plain": [
       "HBox(children=(IntProgress(value=0, description='Epoch', max=17), HTML(value='')))"
      ]
     },
     "metadata": {},
     "output_type": "display_data"
    },
    {
     "name": "stdout",
     "output_type": "stream",
     "text": [
      " 50%|█████     | 3/6 [00:00<00:00, 25.56it/s, loss=2.65] \n",
      "                                                        \r"
     ]
    }
   ],
   "source": [
    "lrf = learn.lr_find2()"
   ]
  },
  {
   "cell_type": "code",
   "execution_count": 97,
   "metadata": {},
   "outputs": [
    {
     "data": {
      "image/png": "[encoded data removed]",
      "text/plain": [
       "<Figure size 432x864 with 3 Axes>"
      ]
     },
     "metadata": {},
     "output_type": "display_data"
    }
   ],
   "source": [
    "learn.sched.plot()"
   ]
  },
  {
   "cell_type": "code",
   "execution_count": 100,
   "metadata": {},
   "outputs": [
    {
     "data": {
      "application/vnd.jupyter.widget-view+json": {
       "model_id": "92a325c6ec2d431483b2fa15a3791670",
       "version_major": 2,
       "version_minor": 0
      },
      "text/plain": [
       "HBox(children=(IntProgress(value=0, description='Epoch', max=10), HTML(value='')))"
      ]
     },
     "metadata": {},
     "output_type": "display_data"
    },
    {
     "name": "stdout",
     "output_type": "stream",
     "text": [
      "epoch      trn_loss   val_loss   accuracy       \n",
      "    0      1.812184   1.112639   0.634409  \n",
      "    1      1.104346   0.522083   0.817204       \n",
      "    2      0.799601   0.355975   0.860215        \n",
      "    3      0.614969   0.318759   0.860215                \n",
      "    4      0.485716   0.307946   0.88172         \n",
      "    5      0.401973   0.307355   0.892473        \n",
      "    6      0.340631   0.305752   0.88172         \n",
      "    7      0.2957     0.299162   0.88172         \n",
      "    8      0.262982   0.292846   0.88172         \n",
      "    9      0.236479   0.289794   0.88172         \n",
      "\n"
     ]
    },
    {
     "data": {
      "text/plain": [
       "[array([0.28979]), 0.8817204243393355]"
      ]
     },
     "execution_count": 100,
     "metadata": {},
     "output_type": "execute_result"
    }
   ],
   "source": [
    "learn.fit(1e-2, 10)"
   ]
  },
  {
   "cell_type": "code",
   "execution_count": 138,
   "metadata": {},
   "outputs": [],
   "source": [
    "learn.precompute = False"
   ]
  },
  {
   "cell_type": "code",
   "execution_count": 102,
   "metadata": {},
   "outputs": [],
   "source": [
    "learn.save('224_pre_last_layer')"
   ]
  },
  {
   "cell_type": "code",
   "execution_count": 107,
   "metadata": {},
   "outputs": [],
   "source": [
    "learn.load('224_pre_last_layer')"
   ]
  },
  {
   "cell_type": "markdown",
   "metadata": {},
   "source": [
    "### 2.2 Data Augmentation"
   ]
  },
  {
   "cell_type": "code",
   "execution_count": 161,
   "metadata": {},
   "outputs": [],
   "source": [
    "learn.precompute = False"
   ]
  },
  {
   "cell_type": "code",
   "execution_count": 108,
   "metadata": {},
   "outputs": [
    {
     "data": {
      "application/vnd.jupyter.widget-view+json": {
       "model_id": "c20456c941d24b98846eccb921de3467",
       "version_major": 2,
       "version_minor": 0
      },
      "text/plain": [
       "HBox(children=(IntProgress(value=0, description='Epoch', max=31), HTML(value='')))"
      ]
     },
     "metadata": {},
     "output_type": "display_data"
    },
    {
     "name": "stdout",
     "output_type": "stream",
     "text": [
      "epoch      trn_loss   val_loss   accuracy                \n",
      "    0      0.98674    0.330055   0.892473  \n",
      "    1      1.020451   0.363729   0.913978                \n",
      "    2      1.04185    0.402275   0.892473               \n",
      "    3      1.039827   0.381287   0.892473               \n",
      "    4      0.996088   0.371822   0.892473                \n",
      "    5      0.963667   0.364943   0.892473                \n",
      "    6      0.957447   0.36734    0.903226                \n",
      "    7      0.921021   0.35019    0.892473                \n",
      "    8      0.912063   0.347526   0.892473                \n",
      "    9      0.894321   0.348649   0.903226                \n",
      "    10     0.885103   0.33655    0.892473                \n",
      "    11     0.855667   0.329462   0.892473                \n",
      "    12     0.845591   0.338899   0.892473                \n",
      "    13     0.832535   0.339062   0.892473                \n",
      "    14     0.820355   0.337893   0.903226                \n",
      "    15     0.804556   0.33623    0.903226                \n",
      "    16     0.798574   0.341519   0.903226                \n",
      "    17     0.778898   0.343284   0.903226                \n",
      "    18     0.760607   0.334934   0.903226                \n",
      "    19     0.748496   0.333856   0.903226                \n",
      "    20     0.73039    0.325368   0.903226                \n",
      "    21     0.716499   0.325432   0.903226                \n",
      "    22     0.705639   0.320882   0.903226                \n",
      "    23     0.691311   0.320659   0.903226                \n",
      "    24     0.699508   0.324141   0.903226                \n",
      "    25     0.689055   0.32997    0.903226                \n",
      "    26     0.675209   0.330243   0.892473                \n",
      "    27     0.674278   0.326742   0.903226                \n",
      "    28     0.672506   0.3323     0.903226                \n",
      "    29     0.651564   0.326835   0.903226                \n",
      "    30     0.643175   0.319067   0.903226                \n",
      "\n"
     ]
    },
    {
     "data": {
      "text/plain": [
       "[array([0.31907]), 0.9032258006834215]"
      ]
     },
     "execution_count": 108,
     "metadata": {},
     "output_type": "execute_result"
    }
   ],
   "source": [
    "learn.fit(1e-3, 5, cycle_len=1, cycle_mult=2)"
   ]
  },
  {
   "cell_type": "code",
   "execution_count": 109,
   "metadata": {},
   "outputs": [],
   "source": [
    "learn.save('224_pre_last_layer_with_data_aug')"
   ]
  },
  {
   "cell_type": "code",
   "execution_count": 170,
   "metadata": {},
   "outputs": [],
   "source": [
    "learn.load('224_pre_last_layer_with_data_aug')"
   ]
  },
  {
   "cell_type": "code",
   "execution_count": 171,
   "metadata": {},
   "outputs": [],
   "source": [
    "learn.unfreeze()"
   ]
  },
  {
   "cell_type": "code",
   "execution_count": 172,
   "metadata": {},
   "outputs": [],
   "source": [
    "lr = 1e-2\n",
    "lrs = [lr/100, lr/10, lr]"
   ]
  },
  {
   "cell_type": "code",
   "execution_count": 173,
   "metadata": {},
   "outputs": [
    {
     "data": {
      "application/vnd.jupyter.widget-view+json": {
       "model_id": "414432a2b66042fa984ff764bcc7841c",
       "version_major": 2,
       "version_minor": 0
      },
      "text/plain": [
       "HBox(children=(IntProgress(value=0, description='Epoch', max=7), HTML(value='')))"
      ]
     },
     "metadata": {},
     "output_type": "display_data"
    },
    {
     "name": "stdout",
     "output_type": "stream",
     "text": [
      "epoch      trn_loss   val_loss   accuracy                \n",
      "    0      0.958827   0.331822   0.870968  \n",
      "    1      0.916273   0.388364   0.870968                \n",
      "    2      0.798195   0.38114    0.870968                \n",
      "    3      0.723608   0.352961   0.88172                 \n",
      "    4      0.664415   0.288267   0.913978                \n",
      "    5      0.599855   0.27543    0.913978                \n",
      "    6      0.542564   0.301946   0.903226                \n",
      "\n"
     ]
    },
    {
     "data": {
      "text/plain": [
       "[array([0.30195]), 0.9032258064516129]"
      ]
     },
     "execution_count": 173,
     "metadata": {},
     "output_type": "execute_result"
    }
   ],
   "source": [
    "learn.fit(lrs, 3, cycle_len=1, cycle_mult=2)"
   ]
  },
  {
   "cell_type": "code",
   "execution_count": 186,
   "metadata": {},
   "outputs": [
    {
     "data": {
      "application/vnd.jupyter.widget-view+json": {
       "model_id": "2d2e6471201e440eb00e4dcb8e66afc1",
       "version_major": 2,
       "version_minor": 0
      },
      "text/plain": [
       "HBox(children=(IntProgress(value=0, description='Epoch', max=6), HTML(value='')))"
      ]
     },
     "metadata": {},
     "output_type": "display_data"
    },
    {
     "name": "stdout",
     "output_type": "stream",
     "text": [
      "epoch      trn_loss   val_loss   accuracy                \n",
      "    0      0.264905   0.235637   0.913978  \n",
      "    1      0.250759   0.228546   0.924731                \n",
      "    2      0.240382   0.227737   0.924731                \n",
      "    3      0.216045   0.232025   0.913978                \n",
      "    4      0.208595   0.230633   0.913978                \n",
      "    5      0.207512   0.229152   0.913978                \n",
      "\n"
     ]
    },
    {
     "data": {
      "text/plain": [
       "[array([0.22915]), 0.9139784946236559]"
      ]
     },
     "execution_count": 186,
     "metadata": {},
     "output_type": "execute_result"
    }
   ],
   "source": [
    "learn.fit(1e-3/3, 3, cycle_len=2)"
   ]
  },
  {
   "cell_type": "code",
   "execution_count": 187,
   "metadata": {},
   "outputs": [],
   "source": [
    "learn.save('224_all_layers')"
   ]
  }
 ],
 "metadata": {
  "kernelspec": {
   "display_name": "Python 3",
   "language": "python",
   "name": "python3"
  },
  "language_info": {
   "codemirror_mode": {
    "name": "ipython",
    "version": 3
   },
   "file_extension": ".py",
   "mimetype": "text/x-python",
   "name": "python",
   "nbconvert_exporter": "python",
   "pygments_lexer": "ipython3",
   "version": "3.6.5"
  }
 },
 "nbformat": 4,
 "nbformat_minor": 2
}
